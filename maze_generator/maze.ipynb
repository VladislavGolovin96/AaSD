{
  "cells": [
    {
      "cell_type": "code",
      "execution_count": 3,
      "id": "5ba82531-2601-494f-bb93-5f817de31a82",
      "metadata": {
        "colab": {
          "base_uri": "https://localhost:8080/"
        },
        "id": "5ba82531-2601-494f-bb93-5f817de31a82",
        "outputId": "b473248f-24fd-424b-e885-59849537a93d"
      },
      "outputs": [
        {
          "output_type": "stream",
          "name": "stdout",
          "text": [
            "Requirement already satisfied: matplotlib in /usr/local/lib/python3.10/dist-packages (3.7.1)\n",
            "Requirement already satisfied: contourpy>=1.0.1 in /usr/local/lib/python3.10/dist-packages (from matplotlib) (1.2.1)\n",
            "Requirement already satisfied: cycler>=0.10 in /usr/local/lib/python3.10/dist-packages (from matplotlib) (0.12.1)\n",
            "Requirement already satisfied: fonttools>=4.22.0 in /usr/local/lib/python3.10/dist-packages (from matplotlib) (4.51.0)\n",
            "Requirement already satisfied: kiwisolver>=1.0.1 in /usr/local/lib/python3.10/dist-packages (from matplotlib) (1.4.5)\n",
            "Requirement already satisfied: numpy>=1.20 in /usr/local/lib/python3.10/dist-packages (from matplotlib) (1.25.2)\n",
            "Requirement already satisfied: packaging>=20.0 in /usr/local/lib/python3.10/dist-packages (from matplotlib) (24.0)\n",
            "Requirement already satisfied: pillow>=6.2.0 in /usr/local/lib/python3.10/dist-packages (from matplotlib) (9.4.0)\n",
            "Requirement already satisfied: pyparsing>=2.3.1 in /usr/local/lib/python3.10/dist-packages (from matplotlib) (3.1.2)\n",
            "Requirement already satisfied: python-dateutil>=2.7 in /usr/local/lib/python3.10/dist-packages (from matplotlib) (2.8.2)\n",
            "Requirement already satisfied: six>=1.5 in /usr/local/lib/python3.10/dist-packages (from python-dateutil>=2.7->matplotlib) (1.16.0)\n"
          ]
        }
      ],
      "source": [
        "!pip install matplotlib"
      ]
    },
    {
      "cell_type": "code",
      "execution_count": 5,
      "id": "22815830-5b83-49ce-923f-af372dcdd098",
      "metadata": {
        "id": "22815830-5b83-49ce-923f-af372dcdd098"
      },
      "outputs": [],
      "source": [
        "import matplotlib.pyplot as plt\n",
        "#from generate import generate_maze ругается на него\n",
        "import random as rd"
      ]
    },
    {
      "cell_type": "code",
      "execution_count": 6,
      "id": "394aed81-a7b7-4497-8357-36cb39c5f309",
      "metadata": {
        "id": "394aed81-a7b7-4497-8357-36cb39c5f309"
      },
      "outputs": [],
      "source": [
        "from dataclasses import dataclass, field\n",
        "\n",
        "@dataclass\n",
        "class MazeCell:\n",
        "    x: int\n",
        "    y: int\n",
        "    component: int\n",
        "    is_open: bool = field(default=False)\n",
        "    walls: list = field(default_factory=list)"
      ]
    },
    {
      "cell_type": "code",
      "execution_count": 7,
      "id": "b23fab15-b8d7-4a09-882f-6caf95b66c3b",
      "metadata": {
        "id": "b23fab15-b8d7-4a09-882f-6caf95b66c3b"
      },
      "outputs": [],
      "source": [
        "N = 30\n",
        "LINE_WIDTH = 50"
      ]
    },
    {
      "cell_type": "code",
      "execution_count": 8,
      "id": "a7eb330f-fd7a-4dc2-a66c-8fb4bd73bc8a",
      "metadata": {
        "id": "a7eb330f-fd7a-4dc2-a66c-8fb4bd73bc8a"
      },
      "outputs": [],
      "source": [
        "\"\"\"\n",
        "В этой ячейке должен быть код генератора лабиринта\n",
        "\"\"\"\n",
        "\n",
        "# проверяет компоненты связности у всех ячеек лабиринта\n",
        "def check_comp(maze):\n",
        "    component = maze[0].component\n",
        "    for i in range(N*N):\n",
        "        if component != maze[i].component:\n",
        "            return True\n",
        "\n",
        "\n",
        "# проверяет, лежат ли два элемента в одном множестве\n",
        "def find(x, y):\n",
        "    return x.component == y.component\n",
        "\n",
        "# находит все элементы множества\n",
        "def find_set(x, maze):\n",
        "    cells = []\n",
        "    for cell in maze:\n",
        "        if cell.component == x:\n",
        "            cells.append(cell)\n",
        "\n",
        "    return cells\n",
        "\n",
        "\n",
        "def union(x, y, maze):\n",
        "    if not find(x, y):\n",
        "        for cell in find_set(y.component, maze):\n",
        "            cell.component = x.component\n",
        "        return True\n",
        "    return False\n",
        "\n",
        "\n",
        "def get_neigbours(x, y, maze):\n",
        "    neighbours = []\n",
        "    for cell in maze:\n",
        "        if (x-1 == cell.x and y == cell.y) or (x+1 == cell.x and y == cell.y) or (y-1 == cell.y and x == cell.x) or (y+1 == cell.y and x == cell.x):\n",
        "            neighbours.append(cell)\n",
        "\n",
        "    return neighbours\n",
        "\n",
        "\n",
        "def delete_walls(cell, neighbour):\n",
        "    x, y = neighbour.x - cell.x, neighbour.y - cell.y\n",
        "\n",
        "    if x > 0:\n",
        "        cell.walls[1] = False\n",
        "        neighbour.walls[3] = False\n",
        "    elif x < 0:\n",
        "        cell.walls[3] = False\n",
        "        neighbour.walls[1] = False\n",
        "\n",
        "    if y > 0:\n",
        "        cell.walls[2] = False\n",
        "        neighbour.walls[0] = False\n",
        "    elif y < 0:\n",
        "        cell.walls[0] = False\n",
        "        neighbour.walls[2] = False\n",
        "\n",
        "\n",
        "def rand_choise(unchoises, maze):\n",
        "    return rd.choice(maze)\n",
        "\n",
        "\n",
        "\n",
        "def generate_maze(N) -> list[list[MazeCell]]:\n",
        "    maze = []\n",
        "    n = 0\n",
        "    for y in range(N):\n",
        "        line = []\n",
        "        for x in range(N):\n",
        "            maze.append(MazeCell(x, y, n, False, [True, True, True, True]))\n",
        "            n += 1\n",
        "\n",
        "    unchoises = maze[:]\n",
        "\n",
        "\n",
        "    while check_comp(maze):\n",
        "        cell = rand_choise(unchoises, maze)\n",
        "        if cell is None: break\n",
        "        x, y = cell.x, cell.y\n",
        "        neighbours = get_neigbours(x, y, maze)\n",
        "        neighbour = rd.choice(neighbours)\n",
        "\n",
        "        if union(cell, neighbour, maze):\n",
        "            delete_walls(cell, neighbour)\n",
        "\n",
        "    maze[0].is_open = True\n",
        "    maze[0].walls[0] = False\n",
        "    maze[-1].is_open = True\n",
        "    maze[-1].walls[2] = False\n",
        "\n",
        "    return maze"
      ]
    },
    {
      "cell_type": "code",
      "execution_count": 9,
      "id": "b3175704-175b-4b46-8d2e-6c7261008655",
      "metadata": {
        "id": "b3175704-175b-4b46-8d2e-6c7261008655"
      },
      "outputs": [],
      "source": [
        "maze = generate_maze(N)"
      ]
    },
    {
      "cell_type": "code",
      "execution_count": 10,
      "id": "d8631fe0-4bef-46a8-a3f8-0efe01f9393a",
      "metadata": {
        "id": "d8631fe0-4bef-46a8-a3f8-0efe01f9393a"
      },
      "outputs": [],
      "source": [
        "def draw_maze(maze):\n",
        "\n",
        "    for cell in maze:\n",
        "        if cell.walls[0]:\n",
        "            start_x, end_x = cell.x, cell.x+1\n",
        "            start_y, end_y = N - cell.y, N - cell.y\n",
        "            plt.plot([start_x, end_x], [start_y, end_y], 'k-', lw=2)\n",
        "\n",
        "        if cell.walls[1]:\n",
        "            start_x, end_x = cell.x+1, cell.x+1\n",
        "            start_y, end_y = N - cell.y, N - cell.y-1\n",
        "            plt.plot([start_x, end_x], [start_y, end_y], 'k-', lw=2)\n",
        "\n",
        "        if cell.walls[2]:\n",
        "            start_x, end_x = cell.x, cell.x+1\n",
        "            start_y, end_y = N - cell.y-1, N - cell.y-1\n",
        "            plt.plot([start_x, end_x], [start_y, end_y], 'k-', lw=2)\n",
        "\n",
        "        if cell.walls[3]:\n",
        "            start_x, end_x = cell.x, cell.x\n",
        "            start_y, end_y = N - cell.y, N - cell.y-1\n",
        "            plt.plot([start_x, end_x], [start_y, end_y], 'k-', lw=2)"
      ]
    },
    {
      "cell_type": "code",
      "execution_count": 14,
      "id": "f5756126-381a-4d75-bd19-80f70e8a4e0a",
      "metadata": {
        "colab": {
          "base_uri": "https://localhost:8080/",
          "height": 830
        },
        "id": "f5756126-381a-4d75-bd19-80f70e8a4e0a",
        "outputId": "78a7dc8c-5d65-445c-dd80-13ba5081c37d"
      },
      "outputs": [
        {
          "output_type": "display_data",
          "data": {
            "text/plain": [
              "<Figure size 1000x1000 with 1 Axes>"
            ],
            "image/png": "[encoded data removed]"
          },
          "metadata": {}
        }
      ],
      "source": [
        "fig = plt.figure(figsize=(10, 10))\n",
        "\n",
        "draw_maze(maze)\n",
        "\n",
        "plt.show()"
      ]
    },
    {
      "cell_type": "code",
      "execution_count": null,
      "id": "8a16f1f6-32ca-40d5-bfe3-9bd797928d93",
      "metadata": {
        "id": "8a16f1f6-32ca-40d5-bfe3-9bd797928d93"
      },
      "outputs": [],
      "source": []
    }
  ],
  "metadata": {
    "kernelspec": {
      "display_name": "Python 3 (ipykernel)",
      "language": "python",
      "name": "python3"
    },
    "language_info": {
      "codemirror_mode": {
        "name": "ipython",
        "version": 3
      },
      "file_extension": ".py",
      "mimetype": "text/x-python",
      "name": "python",
      "nbconvert_exporter": "python",
      "pygments_lexer": "ipython3",
      "version": "3.11.8"
    },
    "colab": {
      "provenance": []
    }
  },
  "nbformat": 4,
  "nbformat_minor": 5
}